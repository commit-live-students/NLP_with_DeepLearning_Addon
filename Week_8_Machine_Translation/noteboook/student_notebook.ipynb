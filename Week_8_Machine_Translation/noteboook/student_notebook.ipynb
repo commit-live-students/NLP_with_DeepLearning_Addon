{
 "cells": [
  {
   "cell_type": "markdown",
   "metadata": {},
   "source": [
    "### Problem statement:\n",
    "\n",
    "In this project we are working on the `English-Spanish dataset` dataset. The dataset can be found at http://www.manythings.org/anki/. The dataset contains translations of Spanish words to English words. \n",
    "\n",
    "From the given dataset we want to predict the correct `Spanish` translation of the `English` words.\n",
    "\n",
    "### About the dataset\n",
    "\n",
    "\n",
    "A zipped file containing following items is given:\n",
    "\n",
    "- train.txt\n",
    "\n",
    "The data file `train.txt` contains translation of  `123376` Spanish words into its English counterpart. The dataset is tab delimited.\n",
    "\n",
    "- test.txt\n",
    "\n",
    "The datafile `test.txt` contains the `246` English words whose correct Spanish translation has to be predicted. The dataset is tab delimited.\n",
    "\n",
    "## Submission\n",
    "\n",
    "After training of the model on `train.txt` data, learner has to predict the target feature of the `test.txt` data using the trained model. The learner has to then submit a csv file with the predicted feature.\n",
    "\n",
    "Sample submission file(`sample_submission.txt`) is given to you as reference to the format expected when you submit\n",
    "\n",
    "\n",
    "\n",
    "\n",
    "## Evaluation metrics\n",
    "\n",
    "For this particular dataset we are using Accuracy as a evaluation metric. \n",
    "\n",
    "Submissions will be evaluated based on [Accuracy score](https://scikit-learn.org/stable/modules/generated/sklearn.metrics.accuracy_score.html)"
   ]
  },
  {
   "cell_type": "markdown",
   "metadata": {},
   "source": [
    "### Load the data\n",
    "\n",
    "\n",
    "#### Instructions:\n",
    "\n",
    "- Load the train data\n",
    "- Split the dependent and independent features \n",
    "- Scale the features\n",
    "- Split the dataset into `train` and `validation` set.\n",
    "\n",
    "\n",
    "\n",
    "\n"
   ]
  },
  {
   "cell_type": "code",
   "execution_count": 1,
   "metadata": {},
   "outputs": [
    {
     "name": "stderr",
     "output_type": "stream",
     "text": [
      "/home/bhushan/anaconda3/lib/python3.6/site-packages/h5py/__init__.py:36: FutureWarning: Conversion of the second argument of issubdtype from `float` to `np.floating` is deprecated. In future, it will be treated as `np.float64 == np.dtype(float).type`.\n",
      "  from ._conv import register_converters as _register_converters\n"
     ]
    }
   ],
   "source": [
    "# import packages\n",
    "import numpy as np\n",
    "from sklearn.model_selection import train_test_split\n",
    "from sklearn.preprocessing import MinMaxScaler\n",
    "import warnings\n",
    "from keras.models import Model\n",
    "from keras.layers import Input, LSTM, Dense\n",
    "from numpy.random import seed\n",
    "seed(1)\n",
    "from tensorflow import set_random_seed\n",
    "set_random_seed(2)\n",
    "warnings.filterwarnings(\"ignore\")\n",
    "\n",
    "# code starts here\n",
    "\n",
    "\n",
    "\n",
    "\n",
    "\n",
    "\n",
    "\n",
    "\n",
    "\n",
    "\n",
    "\n",
    "\n",
    "\n",
    "\n",
    "\n",
    "\n",
    "# code ends here"
   ]
  },
  {
   "cell_type": "markdown",
   "metadata": {},
   "source": [
    "### Model building\n",
    "\n",
    "- Create a sequential model\n",
    "- Fit the model on the train data \n",
    "- Evaluate the model on the validation set."
   ]
  },
  {
   "cell_type": "code",
   "execution_count": 2,
   "metadata": {},
   "outputs": [
    {
     "name": "stderr",
     "output_type": "stream",
     "text": [
      "Using TensorFlow backend.\n"
     ]
    }
   ],
   "source": [
    "# code starts here\n",
    "\n",
    "\n",
    "\n",
    "\n",
    "\n",
    "\n",
    "\n",
    "\n",
    "\n",
    "# code ends here\n"
   ]
  },
  {
   "cell_type": "markdown",
   "metadata": {},
   "source": [
    "### Predictor check !\n",
    "\n",
    "#### Instructions:\n",
    "\n",
    "- Load the test data\n",
    "- Predict the model on the `test_data`\n",
    "- Create a submission file \n"
   ]
  },
  {
   "cell_type": "code",
   "execution_count": 3,
   "metadata": {},
   "outputs": [],
   "source": [
    "# code stsrts here\n",
    "\n",
    "\n",
    "\n",
    "\n",
    "\n",
    "\n",
    "\n",
    "\n",
    "\n",
    "\n",
    "# code ends here"
   ]
  }
 ],
 "metadata": {
  "kernelspec": {
   "display_name": "Python 3",
   "language": "python",
   "name": "python3"
  },
  "language_info": {
   "codemirror_mode": {
    "name": "ipython",
    "version": 3
   },
   "file_extension": ".py",
   "mimetype": "text/x-python",
   "name": "python",
   "nbconvert_exporter": "python",
   "pygments_lexer": "ipython3",
   "version": "3.6.8"
  }
 },
 "nbformat": 4,
 "nbformat_minor": 2
}
